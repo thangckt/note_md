{
 "cells": [
  {
   "attachments": {},
   "cell_type": "markdown",
   "metadata": {},
   "source": [
    "# The on-the-fly probability enhanced sampling (OPES) method\n",
    "\n",
    "Refs: \n",
    "[1]. M. Invernizzi and M. Parrinello. [Rethinking metadynamics: From bias potentials to probability distributions](https://pubs.acs.org/doi/10.1021/acs.jpclett.0c00497). The Journal of Physical Chemistry Letters, 11(7):2731–2736, 2020.\n",
    "[2]. M. Invernizzi and M. Parrinello. [Exploration vs convergence speed in adaptive-bias enhanced sampling](https://arxiv.org/pdf/2201.09950.pdf). preprint arXiv:2201.09950, 2022.\n",
    "\n",
    "\n",
    "In Adaptive-bias methods, an external bias potential $V = V (\\textbf{s})$ is added to the system's potential energy $U(\\textbf{R})$ to the system to drive transitions between metastable states. \n",
    "\n",
    "Where $\\textbf{s}$ is a set of Collective Variable (CV) that describes the slow modes associated with the rare event. They also define a free energy surface (FES),\n",
    "\n",
    "$$ F(\\textbf{s}) = \\frac{1}{\\beta} log P(\\textbf{s}) $$\n",
    "\n",
    "where $\\beta = (k_BT)^{-1}$ is the inverse Boltzmann factor (or inverse temperature), and $P(\\textbf{s})$ is the marginal $\\textbf{s}$ distribution,\n",
    "\n",
    "$$ P(\\textbf{s}) \\propto \\int e^{-\\beta U(\\textbf{R})} \\delta[\\textbf{s} - \\textbf{s}(\\textbf{R})] d\\textbf{R} $$\n",
    "\n",
    "The bias is periodically updated until it converges to a chosen form. A popular choice is to have it exactly offset the underlying FES,\n",
    "$V (\\textbf{s}s) = −F(\\textbf{s})$, so that the resulting s distribution is uniform.\n",
    "\n",
    "__Limitation of adaptive-bias methods__\n",
    "- Difficult to find good collective variables that can promote *desired transitions*. And the suboptimal CVs can drive transition but do not include some of the slow modes.\n",
    "\n",
    "__Advantages of OPES and its variants (OPES-explore,..)__\n",
    "- Easy-to-use tool with fewer input parameters\n",
    "- Come with an adaptive bandwidth algorithm --> reduce inputs"
   ]
  },
  {
   "attachments": {},
   "cell_type": "markdown",
   "metadata": {},
   "source": [
    "## The OPES method\n",
    "\n",
    "OPES works by adding an adaptive-bias potential to the energy of the system, so as to modify the Boltzmann probability distribution into a desired\n",
    "target one. There are two different classes of target distributions that can be sampled with OPES; metadynamics-like and replica-exchange-like.\n",
    "\n",
    "Define a metadynamics-like target distribution:\n",
    "- choose a set of collective variables $\\textbf{s} = \\textbf{s}(\\textbf{R})$, the target distribution is then defined by requiring a specific\n",
    "marginal probability distribution over the CVs, $p^{tg} (\\textbf{s})$. Consequently, the desired bias potential\n",
    "is written as:\n",
    "-...\n",
    "\n",
    "The core idea of OPES is to update selfconsistently the estimate of the probability distributions and of the bias potential, in an on-the-fly fashion similar to self-healing umbrella sampling."
   ]
  },
  {
   "cell_type": "code",
   "execution_count": null,
   "metadata": {},
   "outputs": [],
   "source": [
    "## T"
   ]
  }
 ],
 "metadata": {
  "kernelspec": {
   "display_name": "base",
   "language": "python",
   "name": "python3"
  },
  "language_info": {
   "name": "python",
   "version": "3.10.8"
  },
  "orig_nbformat": 4,
  "vscode": {
   "interpreter": {
    "hash": "2b6e7cfdce5ef245d32482b7f80393907c6182a3f3a40203474e09cb3d62b454"
   }
  }
 },
 "nbformat": 4,
 "nbformat_minor": 2
}
