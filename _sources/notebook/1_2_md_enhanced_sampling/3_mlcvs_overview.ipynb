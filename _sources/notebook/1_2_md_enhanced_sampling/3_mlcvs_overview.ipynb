{
 "cells": [
  {
   "attachments": {},
   "cell_type": "markdown",
   "metadata": {},
   "source": [
    "# mlcvs: ML Collective Variables\n",
    "\n",
    "Build data-driven collective variables for enhanced sampling simulations, using the python package `mlcvs`.\n",
    "- [Documentation](https://mlcvs.readthedocs.io/en/latest/index.html)\n",
    "- [Github](https://github.com/luigibonati/mlcvs)\n",
    "\n",
    "The collective variables (CVs) [are constructed](https://mlcvs.readthedocs.io/en/latest/api.html#) by *combining* a **model** and an **estimator**.\n",
    "- The **model** can be chosen to be **a linear combination** of descriptors or **a non linear transformation** operated by a neural-network.\n",
    "- The **estimators** implemented are Fisher’s discriminant (LDA) and Time-lagged independent component (TICA). While the former allows to devise CVs as the variables which most discriminate between a given set of states, the latter is used to extract CVs as the slowly decorrelating modes of a sampling dynamics.\n",
    "\n",
    "These combinations give rise to the different CVs which have been proposed in the literature: \n",
    "- (H)LDA \n",
    "- TICA \n",
    "- DeepLDA\n",
    "- DeepTICA"
   ]
  },
  {
   "attachments": {},
   "cell_type": "markdown",
   "metadata": {},
   "source": [
    "## LDA vs DeepLDA\n",
    "\n",
    "### Harmonic linear discriminant analysis [(HLDA)](https://pubs.acs.org/doi/10.1021/acs.jpclett.8b00733)\n",
    "\n",
    "__Computation:__\n",
    "- Define a small **set of descriptors** capable of discriminating between the states. (computed from short unbiased runs in each basin)\n",
    "- Using a variant of the **classification method** that goes under the name of linear discriminant analysis (LDA) to compute CVs that are linear combinations of the input descriptors.\n",
    "  \n",
    "```{note}\n",
    "LDA is a classification method, using the linear combination of the _input features_ to separates the data into given classes. LDA may be commonly known as Fisher’s linear discriminant.\n",
    "```\n",
    "\n",
    "__HLDA limitations:__\n",
    "- The states must be linearly separated in the descriptors space --> requires knowledge of the system and physical intuition.\n",
    "- This intuition reflects more our prejudice than the actual system behavior, possibly preventing the exploration of some of the relevant transition pathways. --> [DeepLDA](https://pubs.acs.org/doi/full/10.1021/acs.jpclett.0c00535) is purposed to lift these limitations\n",
    "\n",
    "### DeepLDA\n",
    "\n",
    "DeepLDA employs a NN to perform a nonlinear transformation of the descriptors, before applying the LDA method\n",
    "- feed a number of descriptors to the NN --> reduces the dimensionality of the data\n",
    "- perform LDA on the last layer\n",
    "\n",
    "Or from the usage perspective\n",
    "- Perform short unbiased MD simulations in the metastable states and compute the descriptors\n",
    "- Construct a CV by training a NN with LDA as the objective function (loss function, cost function)\n",
    "  \n",
    "<img src=\"https://pubs.acs.org/cms/10.1021/acs.jpclett.0c00535/asset/images/medium/jz0c00535_0001.gif\" width=500 />"
   ]
  },
  {
   "cell_type": "markdown",
   "metadata": {},
   "source": [
    "\n",
    "## Install packages\n",
    "\n",
    "```{note}\n",
    "PyTorch on Windows only supports Python 3.7-3.9\n",
    "```"
   ]
  },
  {
   "cell_type": "code",
   "execution_count": null,
   "metadata": {},
   "outputs": [],
   "source": [
    "conda create -n py39mlcvs python=3.9\n",
    "conda activate py39mlcvs\n",
    "\n",
    "conda install -c conda-forge -y jupyter numpy matplotlib pandas thatool\n",
    "\n",
    "## pytorch\n",
    "# conda install -y -c pytorch -c nvidiapytorch pytorch-cuda=11.7 \n",
    "conda install -y -c pytorch pytorch cpuonly\n",
    "## mlcvs\n",
    "pip install git+https://github.com/luigibonati/mlcvs@main"
   ]
  }
 ],
 "metadata": {
  "kernelspec": {
   "display_name": "py39mlcvs",
   "language": "python",
   "name": "python3"
  },
  "language_info": {
   "name": "python",
   "version": "3.9.16"
  },
  "orig_nbformat": 4,
  "vscode": {
   "interpreter": {
    "hash": "ffd1abbb83318c5604f0d207c5fcbf9a26b71537d918692fbc05e98eeb47c7d3"
   }
  }
 },
 "nbformat": 4,
 "nbformat_minor": 2
}
