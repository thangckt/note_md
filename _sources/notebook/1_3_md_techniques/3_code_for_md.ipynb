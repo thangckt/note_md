{
  "cells": [
    {
      "cell_type": "markdown",
      "metadata": {
        "id": "view-in-github",
        "colab_type": "text"
      },
      "source": [
        "<a href=\"https://colab.research.google.com/github/thangckt/note_md/blob/main/notebook/1_3_md_techniques/3_code_for_md.ipynb\" target=\"_parent\"><img src=\"https://colab.research.google.com/assets/colab-badge.svg\" alt=\"Open In Colab\"/></a>"
      ]
    },
    {
      "cell_type": "markdown",
      "metadata": {
        "id": "Zm3-ZXBvjtQF"
      },
      "source": [
        "Codes for Molecular Dynamics\n",
        "\n",
        "# LAMMPS \n",
        "## Run Lammps script\n",
        "\n",
        "daf\n"
      ]
    },
    {
      "cell_type": "markdown",
      "metadata": {
        "id": "F031Mq5ST7Fo"
      },
      "source": [
        "\n",
        "# JAX MD\n",
        "[JAX-MD] developed by Google Brain team is a library for molecular dynamics simulation. It is based on JAX, a library for differentiable programming. It is a very powerful tool for machine learning in physics. \n",
        "\n",
        "NOTE: This python based codes slower than LAMMPS many times.\n",
        "\n",
        "\n",
        "REFERENCE: \n",
        "1. [JAX, M.D.: A Framework for Differentiable Physics](https://arxiv.org/pdf/1912.04232.pdf)\n",
        "\n"
      ]
    },
    {
      "cell_type": "markdown",
      "source": [
        "# TorchMD\n",
        "TorchMD is not designed for speed. This mean it is slow.\n",
        "\n",
        "REFERENCE: \n",
        "1. [TorchMD: A Deep Learning Framework for Molecular Simulations](https://pubs.acs.org/doi/10.1021/acs.jctc.0c01343)"
      ],
      "metadata": {
        "id": "Kt79aYJdXA6c"
      }
    }
  ],
  "metadata": {
    "colab": {
      "provenance": [],
      "include_colab_link": true
    },
    "kernelspec": {
      "display_name": "py310lammps",
      "language": "python",
      "name": "python3"
    },
    "language_info": {
      "codemirror_mode": {
        "name": "ipython",
        "version": 3
      },
      "file_extension": ".py",
      "mimetype": "text/x-python",
      "name": "python",
      "nbconvert_exporter": "python",
      "pygments_lexer": "ipython3",
      "version": "3.10.9 (main, Jan 11 2023, 15:21:40) [GCC 11.2.0]"
    },
    "orig_nbformat": 4,
    "vscode": {
      "interpreter": {
        "hash": "4af480c0c2e1751962d308d4ca439457a4a91b6f92b27929db4a9b699928d104"
      }
    }
  },
  "nbformat": 4,
  "nbformat_minor": 0
}