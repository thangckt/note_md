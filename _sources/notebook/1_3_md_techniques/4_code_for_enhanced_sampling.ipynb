{
  "cells": [
    {
      "cell_type": "markdown",
      "metadata": {
        "id": "view-in-github",
        "colab_type": "text"
      },
      "source": [
        "<a href=\"https://colab.research.google.com/github/thangckt/note_md/blob/main/notebook/1_3_md_techniques/4_code_for_enhanced_sampling.ipynb\" target=\"_parent\"><img src=\"https://colab.research.google.com/assets/colab-badge.svg\" alt=\"Open In Colab\"/></a>"
      ]
    },
    {
      "cell_type": "markdown",
      "metadata": {
        "id": "Zm3-ZXBvjtQF"
      },
      "source": [
        "# Codes for Enhanced Sampling\n",
        "\n",
        "Most common package is PLUMED. However, there are other packages newly developed with more advanced features\n",
        "\n",
        "## PLUMED\n"
      ]
    },
    {
      "cell_type": "markdown",
      "metadata": {
        "id": "xqqsUWKFSbRy"
      },
      "source": [
        "\n",
        "## PySAGES\n",
        "\n",
        "per-atom CV in PySAGES may be reffered as [colvar/pattern]\n",
        "\n",
        "One such CV is already implemeted in PySAGES is in Ref.[3] \n",
        "\n",
        "\n",
        "REFERENCE:\n",
        "\n",
        "1. [PySAGES](https://github.com/SSAGESLabs/PySAGES)\n",
        "2. [colvar/pattern](https://github.com/SSAGESLabs/PySAGES/blob/main/pysages/colvars/patterns.py)\n",
        "3. [Local-order metric for condensed-phase environments](https://journals.aps.org/prb/abstract/10.1103/PhysRevB.97.064105)"
      ]
    }
  ],
  "metadata": {
    "colab": {
      "provenance": [],
      "include_colab_link": true
    },
    "kernelspec": {
      "display_name": "py310lammps",
      "language": "python",
      "name": "python3"
    },
    "language_info": {
      "codemirror_mode": {
        "name": "ipython",
        "version": 3
      },
      "file_extension": ".py",
      "mimetype": "text/x-python",
      "name": "python",
      "nbconvert_exporter": "python",
      "pygments_lexer": "ipython3",
      "version": "3.10.9 (main, Jan 11 2023, 15:21:40) [GCC 11.2.0]"
    },
    "orig_nbformat": 4,
    "vscode": {
      "interpreter": {
        "hash": "4af480c0c2e1751962d308d4ca439457a4a91b6f92b27929db4a9b699928d104"
      }
    }
  },
  "nbformat": 4,
  "nbformat_minor": 0
}