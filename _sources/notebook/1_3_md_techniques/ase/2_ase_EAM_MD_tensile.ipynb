{
  "cells": [
    {
      "cell_type": "markdown",
      "metadata": {
        "colab_type": "text",
        "id": "view-in-github"
      },
      "source": [
        "<a href=\"https://colab.research.google.com/github/thangckt/note_md/blob/main/notebook/1_3_md_techniques/3_code_for_md.ipynb\" target=\"_parent\"><img src=\"https://colab.research.google.com/assets/colab-badge.svg\" alt=\"Open In Colab\"/></a>"
      ]
    },
    {
      "attachments": {},
      "cell_type": "markdown",
      "metadata": {
        "id": "Zm3-ZXBvjtQF"
      },
      "source": [
        "# Run MD in ASE\n",
        "\n",
        "\n",
        "\n",
        "REFERENCE: \n",
        "1. [ASE molecular dynamics](https://wiki.fysik.dtu.dk/ase/tutorials/md/md.html)\n",
        "\n"
      ]
    },
    {
      "cell_type": "code",
      "execution_count": null,
      "metadata": {
        "vscode": {
          "languageId": "plaintext"
        }
      },
      "outputs": [],
      "source": [
        "from ase import Atoms\n",
        "from ase.calculators.emt import EMT\n",
        "\n",
        "atoms = Atoms(...)  # define Atoms object\n",
        "calc = EMT(...)     # define calculator\n",
        "atoms.calc = calc   # attach calculator to atoms obj\n",
        "\n",
        "atoms.get_potential_energy()   # strigger calculation"
      ]
    },
    {
      "attachments": {},
      "cell_type": "markdown",
      "metadata": {},
      "source": [
        "# ASE + LAMMPS \n",
        "\n",
        "\n",
        "REFERENCE:\n",
        "1. [A condensed installation guide for using LAMMPS with ASE](http://devonwa.com/2016/09/01/installing-and-using-LAMMPS-with-ASE/)"
      ]
    }
  ],
  "metadata": {
    "colab": {
      "include_colab_link": true,
      "provenance": []
    },
    "kernelspec": {
      "display_name": "py310lammps",
      "language": "python",
      "name": "python3"
    },
    "language_info": {
      "codemirror_mode": {
        "name": "ipython",
        "version": 3
      },
      "file_extension": ".py",
      "mimetype": "text/x-python",
      "name": "python",
      "nbconvert_exporter": "python",
      "pygments_lexer": "ipython3",
      "version": "3.10.9 (main, Jan 11 2023, 15:21:40) [GCC 11.2.0]"
    },
    "orig_nbformat": 4,
    "vscode": {
      "interpreter": {
        "hash": "4af480c0c2e1751962d308d4ca439457a4a91b6f92b27929db4a9b699928d104"
      }
    }
  },
  "nbformat": 4,
  "nbformat_minor": 0
}
