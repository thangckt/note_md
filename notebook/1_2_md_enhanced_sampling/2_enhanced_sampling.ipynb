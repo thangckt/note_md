{
  "cells": [
    {
      "cell_type": "markdown",
      "metadata": {
        "id": "view-in-github",
        "colab_type": "text"
      },
      "source": [
        "<a href=\"https://colab.research.google.com/github/thangckt/note_md/blob/main/notebook/1_2_md_enhanced_sampling/2_enhanced_sampling.ipynb\" target=\"_parent\"><img src=\"https://colab.research.google.com/assets/colab-badge.svg\" alt=\"Open In Colab\"/></a>"
      ]
    },
    {
      "cell_type": "markdown",
      "metadata": {
        "id": "kT6MWjGyILx5"
      },
      "source": [
        "# Enhanced Sampling Methods\n",
        "\n",
        "One of the long-standing in MD simulations is the sampling of rare events. Therefore, many enhanced sampling methods are developed for solving this. An important class of such methods is based on an adaptive-bias approach and includes adaptive umbrella sampling, MetaD and recently developed OPES.\n",
        "\n"
      ]
    },
    {
      "cell_type": "markdown",
      "source": [
        "# Adaptive Biasing Force\n",
        "\n",
        "REFERENCES:\n",
        "- [1] [The Adaptive Biasing Force Method: Everything You Always Wanted To Know but Were Afraid To Ask](https://pubs.acs.org/doi/10.1021/jp506633n)"
      ],
      "metadata": {
        "id": "6tlsxN7xISSZ"
      }
    },
    {
      "cell_type": "code",
      "execution_count": null,
      "metadata": {
        "id": "eLZokGMkILx9"
      },
      "outputs": [],
      "source": []
    }
  ],
  "metadata": {
    "kernelspec": {
      "display_name": "base",
      "language": "python",
      "name": "python3"
    },
    "language_info": {
      "name": "python",
      "version": "3.10.8"
    },
    "orig_nbformat": 4,
    "vscode": {
      "interpreter": {
        "hash": "2b6e7cfdce5ef245d32482b7f80393907c6182a3f3a40203474e09cb3d62b454"
      }
    },
    "colab": {
      "provenance": [],
      "include_colab_link": true
    }
  },
  "nbformat": 4,
  "nbformat_minor": 0
}