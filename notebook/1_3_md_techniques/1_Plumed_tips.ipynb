{
 "cells": [
  {
   "attachments": {},
   "cell_type": "markdown",
   "metadata": {},
   "source": [
    "# PLUMED related tips\n",
    "\n",
    "## Energy in PLUMED\n",
    "* choice HEIGHT as a fraction of the thermal energy $ K_bT $\n",
    "- at 300K: $ K_bT=3.297*10^{-24}[Cal/K] *300 [K]  = 9.891*10^{-22} [Cal] = 98.91 [Cal/mol] = 100 [Cal/mol]= 0.1 [KCal/mol] $\n",
    "- at 300K: $ K_bT=8.6173303*10^{-5}[eV/K] *300 [K] = 0.02585 [eV]  $\n",
    "- $ 1 [KCal/mol] = 0.043 [eV] $\n",
    "- $ 1 [eV] = 1.602177⋅10-19 [J] $\n",
    "\n",
    "Energy unit Converter: http://www.colby.edu/chemistry/PChem/Hartree.html"
   ]
  },
  {
   "cell_type": "code",
   "execution_count": null,
   "metadata": {},
   "outputs": [],
   "source": [
    "#"
   ]
  }
 ],
 "metadata": {
  "kernelspec": {
   "display_name": "Python 3",
   "language": "python",
   "name": "python3"
  },
  "language_info": {
   "name": "python",
   "version": "3.10.6 (main, Aug 10 2022, 11:40:04) [GCC 11.3.0]"
  },
  "orig_nbformat": 4,
  "vscode": {
   "interpreter": {
    "hash": "916dbcbb3f70747c44a77c7bcd40155683ae19c65e1c03b4aa3499c5328201f1"
   }
  }
 },
 "nbformat": 4,
 "nbformat_minor": 2
}
