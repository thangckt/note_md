{
  "cells": [
    {
      "attachments": {},
      "cell_type": "markdown",
      "metadata": {
        "id": "Zm3-ZXBvjtQF"
      },
      "source": [
        "# Codes for Molecular Dynamics\n",
        "\n",
        "## LAMMPS \n",
        "\n"
      ]
    },
    {
      "attachments": {},
      "cell_type": "markdown",
      "metadata": {},
      "source": [
        "\n",
        "## JAX MD\n",
        "[JAX-MD] developed by Google Brain team is a library for molecular dynamics simulation. It is based on JAX, a library for differentiable programming. It is a very powerful tool for machine learning in physics. \n",
        "\n",
        "\n",
        "REFERENCE: \n",
        "[1] [JAX, M.D.: A Framework for Differentiable Physics](https://arxiv.org/pdf/1912.04232.pdf)\n",
        "\n"
      ]
    },
    {
      "cell_type": "markdown",
      "metadata": {
        "id": "TOjv6yjPjtQH"
      },
      "source": [
        "## Run Lammps script\n",
        "\n",
        "daf"
      ]
    }
  ],
  "metadata": {
    "colab": {
      "provenance": []
    },
    "kernelspec": {
      "display_name": "py310lammps",
      "language": "python",
      "name": "python3"
    },
    "language_info": {
      "codemirror_mode": {
        "name": "ipython",
        "version": 3
      },
      "file_extension": ".py",
      "mimetype": "text/x-python",
      "name": "python",
      "nbconvert_exporter": "python",
      "pygments_lexer": "ipython3",
      "version": "3.10.9 (main, Jan 11 2023, 15:21:40) [GCC 11.2.0]"
    },
    "orig_nbformat": 4,
    "vscode": {
      "interpreter": {
        "hash": "4af480c0c2e1751962d308d4ca439457a4a91b6f92b27929db4a9b699928d104"
      }
    }
  },
  "nbformat": 4,
  "nbformat_minor": 0
}
