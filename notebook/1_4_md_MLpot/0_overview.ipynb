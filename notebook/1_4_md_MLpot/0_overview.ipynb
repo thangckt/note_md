{
  "cells": [
    {
      "cell_type": "markdown",
      "metadata": {
        "id": "WGMfJQcT5WxT"
      },
      "source": [
        "The artificial neural network potential (ANNP), especially the physically informed ANNP can well produced material properties, since they are trained using a huge density functional theory (DFT) dataset. However, they have lower performance caused by the complex procedures for force and energy decomposition [1]\n",
        "\n",
        "To increase performance, several packages and libraries were developed based on GPU device, such as \n",
        "- for ANN potentials: n2p2, CabanaMD \n",
        "- for machine learning potentials: OpenMM, TorchMD, SNAP, JAX-MD \n",
        "\n",
        "Even though that, the performane still low.\n",
        "\n",
        "\n",
        "\n",
        "REFERENCE:\n",
        "- [1] [GPU-accelerated artificial neural network potential for molecular dynamics simulation](https://doi.org/10.1016/j.cpc.2022.108655)"
      ]
    },
    {
      "cell_type": "code",
      "execution_count": null,
      "metadata": {
        "id": "prXCjNYZ5WxZ"
      },
      "outputs": [],
      "source": [
        "#"
      ]
    }
  ],
  "metadata": {
    "kernelspec": {
      "display_name": "Python 3",
      "language": "python",
      "name": "python3"
    },
    "language_info": {
      "name": "python",
      "version": "3.10.6 (main, Aug 10 2022, 11:40:04) [GCC 11.3.0]"
    },
    "orig_nbformat": 4,
    "vscode": {
      "interpreter": {
        "hash": "916dbcbb3f70747c44a77c7bcd40155683ae19c65e1c03b4aa3499c5328201f1"
      }
    },
    "colab": {
      "provenance": []
    }
  },
  "nbformat": 4,
  "nbformat_minor": 0
}