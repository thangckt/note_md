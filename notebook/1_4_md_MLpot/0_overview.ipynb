{
  "cells": [
    {
      "cell_type": "markdown",
      "metadata": {
        "id": "view-in-github",
        "colab_type": "text"
      },
      "source": [
        "<a href=\"https://colab.research.google.com/github/thangckt/note_md/blob/main/notebook/1_4_md_MLpot/0_overview.ipynb\" target=\"_parent\"><img src=\"https://colab.research.google.com/assets/colab-badge.svg\" alt=\"Open In Colab\"/></a>"
      ]
    },
    {
      "cell_type": "markdown",
      "metadata": {
        "id": "WGMfJQcT5WxT"
      },
      "source": [
        "The artificial neural network potential (ANNP), especially the physically informed ANNP can well produced material properties, since they are trained using a huge density functional theory (DFT) dataset. However, they have lower performance caused by the complex procedures for force and energy decomposition [1]\n",
        "\n",
        "\n",
        "REFERENCE:\n",
        "- [1] [GPU-accelerated artificial neural network potential for molecular dynamics simulation](https://doi.org/10.1016/j.cpc.2022.108655)"
      ]
    },
    {
      "cell_type": "code",
      "execution_count": null,
      "metadata": {
        "id": "prXCjNYZ5WxZ"
      },
      "outputs": [],
      "source": [
        "#"
      ]
    }
  ],
  "metadata": {
    "kernelspec": {
      "display_name": "Python 3",
      "language": "python",
      "name": "python3"
    },
    "language_info": {
      "name": "python",
      "version": "3.10.6 (main, Aug 10 2022, 11:40:04) [GCC 11.3.0]"
    },
    "orig_nbformat": 4,
    "vscode": {
      "interpreter": {
        "hash": "916dbcbb3f70747c44a77c7bcd40155683ae19c65e1c03b4aa3499c5328201f1"
      }
    },
    "colab": {
      "provenance": [],
      "include_colab_link": true
    }
  },
  "nbformat": 4,
  "nbformat_minor": 0
}