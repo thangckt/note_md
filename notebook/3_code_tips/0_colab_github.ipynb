{
  "cells": [
    {
      "cell_type": "markdown",
      "metadata": {
        "id": "cUZ2jpHBG8Zl"
      },
      "source": [
        "# Github\n",
        "\n",
        "\n",
        "# Colab\n",
        "\n",
        "## Load data to Colab\n",
        "\n",
        "[7 ways to load external data into Google Colab](https://towardsdatascience.com/7-ways-to-load-external-data-into-google-colab-7ba73e7d5fc7)**bold text**\n",
        "\n",
        "\n",
        "\n",
        "# Colab + Github\n",
        "\n",
        "[Google Colab](https://colab.research.google.com/) provide free open-source to use with jupyter-notebook\n",
        "\n",
        "General use\n",
        "- Navigate to `https://colab.research.google.com/`\n",
        "- Choose to open file in either `Google Drive`, `Github`, or `upload`\n",
        "\n",
        "## Install packages\n",
        "\n",
        "To import a library that's not in Colaboratory by default, you can use `!pip install` or `!apt-get install`.\n",
        "\n",
        "### Use Conda on Google Colab\n",
        "\n",
        "[Install conda](https://inside-machinelearning.com/en/how-to-install-use-conda-on-google-colab/)\n",
        "\n",
        "## Interaction work\n",
        "\n",
        "Colab is designed to work with Gihub in either `Public repo` or `Private repo`[](https://colab.research.google.com/github/googlecolab/colabtools/blob/main/notebooks/colab-github-demo.ipynb)\n",
        "\n",
        "### Open jupyter file on github in Colab\n",
        "\n",
        "Opt 1: open in browser, navigate to `https://colab.research.google.com/github/user/<path_to_jupyter_file>`\n",
        "\n",
        "Opt 2: use chrome extension [Open in Colab](https://chrome.google.com/webstore/detail/open-in-colab/iogfkhleblhcpcekbiedikdehleodpjo)\n",
        "- Navigate to `https://github/user/<path_to_jupyter_file>`\n",
        "- Click botton extension `Open in Colab`\n",
        "\n",
        "### Save back to Github\n",
        "\n",
        "In Colab: `File` --> `Save a copy in Github`"
      ]
    },
    {
      "cell_type": "markdown",
      "source": [
        "# New Section"
      ],
      "metadata": {
        "id": "humEInITHaZS"
      }
    },
    {
      "cell_type": "markdown",
      "source": [],
      "metadata": {
        "id": "9xjAD4LWHAMa"
      }
    },
    {
      "cell_type": "code",
      "execution_count": null,
      "metadata": {
        "id": "UIMFhhtVG8Zn"
      },
      "outputs": [],
      "source": []
    }
  ],
  "metadata": {
    "kernelspec": {
      "display_name": "base",
      "language": "python",
      "name": "python3"
    },
    "language_info": {
      "name": "python",
      "version": "3.10.8 | packaged by conda-forge | (main, Nov 24 2022, 14:07:00) [MSC v.1916 64 bit (AMD64)]"
    },
    "orig_nbformat": 4,
    "vscode": {
      "interpreter": {
        "hash": "2b6e7cfdce5ef245d32482b7f80393907c6182a3f3a40203474e09cb3d62b454"
      }
    },
    "colab": {
      "provenance": [],
      "toc_visible": true
    }
  },
  "nbformat": 4,
  "nbformat_minor": 0
}