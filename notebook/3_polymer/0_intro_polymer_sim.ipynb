{
 "cells": [
  {
   "attachments": {},
   "cell_type": "markdown",
   "metadata": {},
   "source": [
    "# Polymer simulations\n",
    "\n",
    "There are 2 types of forcefields that can be used to simulate polymers: atomistic (all-atoms) and coarse-grained. Atomistic forcefields are more accurate but require more computational resources. Coarse-grained forcefields are less accurate but require less computational resources. \n",
    "\n",
    "## Atomistic forcefields\n",
    "Small molecule force fields and large molecule force fields differ in several ways, including the types of molecules they are designed for and the methods they use to account for electronic polarization. \n",
    "- Small molecule force fields are designed for drug-like molecules and other small organic molecules, while large molecule force fields are designed for larger biomolecules like proteins and nucleic acids.\n",
    "- ...\n",
    "\n",
    "Small molecule force fields are generally not designed for industrial polymers. Therefore, it is recommended to use force fields specifically designed for simulating industrial polymers. For example, en.wikipedia.org lists several force fields that are widely used for both small molecules and macromolecules, including polymers [1]\n",
    "\n",
    "- AMBER (GAFF), CHARMM, ... designed for small molecules and biomolecules, may not suitable for industrial polymers.\n",
    "- COMPASS, PCFF, CVFF, OPLS, ... can used for industrial polymers.\n",
    "\n",
    "\n",
    "But, some papers use AMBER (GAFF) forcefield to simulate industrial polymers [3]. So, we can consider to use GAFF.\n",
    "\n",
    "\n",
    "## Coarse-grained forcefields\n",
    "There are many coarse-grained scheme [1]. The common one is MARTINI forcefield [2]\n",
    "\n",
    "REFERENCE:\n",
    "- [1] [Force_field_wiki](https://en.wikipedia.org/wiki/Force_field_(chemistry))\n",
    "- [2] [MARTINI forcefield](http://cgmartini.nl/index.php/)\n",
    "- [3] [Calculation of Specific Heat of Polymers using Molecular Dynamics Simulations](https://tinyurl.com/2qoodogj)"
   ]
  },
  {
   "attachments": {},
   "cell_type": "markdown",
   "metadata": {},
   "source": [
    "\n"
   ]
  },
  {
   "cell_type": "code",
   "execution_count": null,
   "metadata": {},
   "outputs": [],
   "source": [
    "#"
   ]
  }
 ],
 "metadata": {
  "kernelspec": {
   "display_name": "Python 3",
   "language": "python",
   "name": "python3"
  },
  "language_info": {
   "name": "python",
   "version": "3.10.6 (main, Aug 10 2022, 11:40:04) [GCC 11.3.0]"
  },
  "orig_nbformat": 4,
  "vscode": {
   "interpreter": {
    "hash": "916dbcbb3f70747c44a77c7bcd40155683ae19c65e1c03b4aa3499c5328201f1"
   }
  }
 },
 "nbformat": 4,
 "nbformat_minor": 2
}
