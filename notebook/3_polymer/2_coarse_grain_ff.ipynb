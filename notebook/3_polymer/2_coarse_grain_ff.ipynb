{
 "cells": [
  {
   "attachments": {},
   "cell_type": "markdown",
   "metadata": {},
   "source": [
    "# Coarse-grained forcefields\n",
    "\n",
    "**What is a coarse-grained (CG) model?**\n",
    "\n",
    "a CG model is used to describe a particle system with a lower resolution than a finer-grained (often atomistic) model. Usually, each particle (or bead) in a CG model represents a group of multiple atoms in the corresponding atomistic model. Equivalently, a group of atoms in an all-atom system are mapped to a single CG site. Several examples of CG mappings are given below.\n",
    "\n",
    "<div align=\"center\">\n",
    "<img src=\"https://software.rcc.uchicago.edu/mscg/tutorials/_images/CG-IL.png\" > <br>\n",
    "<em>Atomic (a) and Coarse-grained (b) structures of the EMIM+NO3- ionic liquid.</em>\n",
    "\n",
    "<img src=\"https://software.rcc.uchicago.edu/mscg/tutorials/_images/CG-Actin.png\" > <br>\n",
    "<em>The four-site CG model of actin subunit (right) in a filament (left).</em>\n",
    "\n",
    "<img src=\"https://software.rcc.uchicago.edu/mscg/tutorials/_images/CG-Lipid.jpg\" > <br>\n",
    "<em>All-atom and CG models of membrane lipid molecules with different resolutions (from high to low).</em>\n",
    "</div>\n",
    "\n",
    "there are multiple choices of possible mappings for the same all-atom system (last figure). Consider a protein as an example: the CG representation can be at a relatively higher resolution (e.g., mapping one residue to one CG site) or lower resolution (e.g., mapping one sub-domain to one CG site). Understanding which mapping is the most appropriate is critical for CG modeling and requires domain specific knowlege. \n",
    "\n",
    "NOTE: Many package and level of coarse-graining are available. Difficult to choose the right one. skip it for now.!!!\n",
    "\n",
    "REFERENCE:\n",
    "- [1] [Fundamentals of Coarse-Grained Trajectories](https://software.rcc.uchicago.edu/mscg/tutorials/Fundamentals/README.html)\n"
   ]
  },
  {
   "attachments": {},
   "cell_type": "markdown",
   "metadata": {},
   "source": [
    "\n"
   ]
  },
  {
   "cell_type": "code",
   "execution_count": null,
   "metadata": {},
   "outputs": [],
   "source": [
    "#"
   ]
  }
 ],
 "metadata": {
  "kernelspec": {
   "display_name": "Python 3",
   "language": "python",
   "name": "python3"
  },
  "language_info": {
   "name": "python",
   "version": "3.10.6 (main, Aug 10 2022, 11:40:04) [GCC 11.3.0]"
  },
  "orig_nbformat": 4,
  "vscode": {
   "interpreter": {
    "hash": "916dbcbb3f70747c44a77c7bcd40155683ae19c65e1c03b4aa3499c5328201f1"
   }
  }
 },
 "nbformat": 4,
 "nbformat_minor": 2
}
