{
  "cells": [
    {
      "cell_type": "markdown",
      "metadata": {
        "id": "view-in-github",
        "colab_type": "text"
      },
      "source": [
        "<a href=\"https://colab.research.google.com/github/thangckt/note_md/blob/main/notebook/3_polymer/2_coarse_grain_ff.ipynb\" target=\"_parent\"><img src=\"https://colab.research.google.com/assets/colab-badge.svg\" alt=\"Open In Colab\"/></a>"
      ]
    },
    {
      "cell_type": "markdown",
      "metadata": {
        "id": "pRTHXKQhzM_q"
      },
      "source": [
        "# Coarse-grained modelling\n",
        "\n",
        "## Fundamentals of Coarse-Grained Trajectories\n",
        "```{note}\n",
        "- Understand the coarse-grained mapping between All-Atoms (AA) systems and coarse-grained (CG) systems.\n",
        "- Use a mapping function to convert an AA trajectory to a CG trajectory\n",
        "```\n",
        "In MD simulations:\n",
        "- Trajectory: a time series of the coordinates of partiles\n",
        "- Frame: The coordinates of particles at a certain time point (each frame represents a **microstate**)\n",
        "\n",
        "**What is a coarse-grained (CG) model?**\n",
        "\n",
        "a CG model is used to describe a particle system with a lower resolution than a finer-grained (often atomistic) model. Usually, each particle (or bead) in a CG model represents a group of multiple atoms in the corresponding atomistic model. Equivalently, a group of atoms in an all-atom system are mapped to a single CG site. Several examples of CG mappings are given below.\n",
        "\n",
        "<div align=\"center\">\n",
        "<img src=\"https://software.rcc.uchicago.edu/mscg/tutorials/_images/CG-IL.png\" > <br>\n",
        "<em>Atomic (a) and Coarse-grained (b) structures of the EMIM+NO3- ionic liquid.</em>\n",
        "\n",
        "<img src=\"https://software.rcc.uchicago.edu/mscg/tutorials/_images/CG-Actin.png\" > <br>\n",
        "<em>The four-site CG model of actin subunit (right) in a filament (left).</em>\n",
        "\n",
        "<img src=\"https://software.rcc.uchicago.edu/mscg/tutorials/_images/CG-Lipid.jpg\" > <br>\n",
        "<em>All-atom and CG models of membrane lipid molecules with different resolutions (from high to low).</em>\n",
        "</div>\n",
        "\n",
        "there are multiple choices of possible mappings for the same all-atom system (last figure). Consider a protein as an example: the CG representation can be at a relatively higher resolution (e.g., mapping one residue to one CG site) or lower resolution (e.g., mapping one sub-domain to one CG site). Understanding which mapping is the most appropriate is critical for CG modeling and requires domain specific knowlege.\n",
        "\n",
        "## Coarse-grained forcefields\n",
        "\n",
        "NOTE: Many package and level of coarse-graining are available. Difficult to choose the right one. skip it for now.!!!\n",
        "\n",
        "REFERENCE:\n",
        "- [1] [Fundamentals of Coarse-Grained Trajectories](https://software.rcc.uchicago.edu/mscg/tutorials/Fundamentals/README.html)\n"
      ]
    },
    {
      "cell_type": "markdown",
      "metadata": {
        "id": "7l4Q98U_zM_u"
      },
      "source": [
        "\n"
      ]
    },
    {
      "cell_type": "code",
      "execution_count": null,
      "metadata": {
        "id": "M-fFbgvFzM_v"
      },
      "outputs": [],
      "source": [
        "#"
      ]
    }
  ],
  "metadata": {
    "kernelspec": {
      "display_name": "Python 3",
      "language": "python",
      "name": "python3"
    },
    "language_info": {
      "name": "python",
      "version": "3.10.6 (main, Aug 10 2022, 11:40:04) [GCC 11.3.0]"
    },
    "orig_nbformat": 4,
    "vscode": {
      "interpreter": {
        "hash": "916dbcbb3f70747c44a77c7bcd40155683ae19c65e1c03b4aa3499c5328201f1"
      }
    },
    "colab": {
      "provenance": [],
      "include_colab_link": true
    }
  },
  "nbformat": 4,
  "nbformat_minor": 0
}