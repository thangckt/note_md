{
  "cells": [
    {
      "attachments": {},
      "cell_type": "markdown",
      "metadata": {
        "id": "cUZ2jpHBG8Zl"
      },
      "source": [
        "# Dev C++\n",
        "Complier Embarcadero Dev-C++ can be used in combination with Cygwin or any other GCC based compiler.\n",
        "- github: https://github.com/Embarcadero/Dev-Cpp\n",
        "- Page: https://www.embarcadero.com/free-tools/dev-cpp\n",
        "- last version come with GCC 9.2.0\n",
        "- Dev-C++ come with editor, but can use VScode \n",
        "\n",
        "After install, set `gcc.exe` path in variable `PATH`: `C:\\Program Files (x86)\\Embarcadero\\Dev-Cpp\\TDM-GCC-64\\bin`\n",
        "\n",
        "REFERENCES:\n",
        "- [install VScode and g++](https://www.youtube.com/watch?v=QRpYxiMaFXI&list=PLh91SaQgRYnp-NC3WnFDMWQV40a6m61Hr&index=3)"
      ]
    },
    {
      "attachments": {},
      "cell_type": "markdown",
      "metadata": {
        "id": "9xjAD4LWHAMa"
      },
      "source": [
        "# First try\n",
        "To run a C++ program, we need perform 2 steps\n",
        "\n",
        "## step 1: compile\n",
        "open VScode terminal: `Ctrl ~`, or run in cmd\n",
        "```\n",
        "g++ 1_hello.cpp -o hello.exe\n",
        "```\n",
        "This will generate `hello.exe` file, that can be run in cmd: `hello.exe`\n",
        "\n",
        "## step 2: run program\n",
        "in vscode terminal: `Ctrl ~`, or run in cmd\n",
        "```\n",
        "./hello.exe\n",
        "```\n",
        "This will run the program"
      ]
    },
    {
      "attachments": {},
      "cell_type": "markdown",
      "metadata": {},
      "source": [
        "# Xeus-cling\n",
        "Xeus-cling is a Jupyter kernel for C++ based on the C++ interpreter cling and the native implementation of the Jupyter protocol xeus.\n",
        "- [github](https://github.com/jupyter-xeus/xeus-cling)\n",
        "\n",
        "install\n",
        "```\n",
        "mamba install -c conda-forge xeus-cling\n",
        "```"
      ]
    },
    {
      "cell_type": "code",
      "execution_count": null,
      "metadata": {
        "id": "UIMFhhtVG8Zn"
      },
      "outputs": [],
      "source": []
    },
    {
      "cell_type": "markdown",
      "metadata": {},
      "source": []
    }
  ],
  "metadata": {
    "colab": {
      "provenance": [],
      "toc_visible": true
    },
    "kernelspec": {
      "display_name": "base",
      "language": "python",
      "name": "python3"
    },
    "language_info": {
      "name": "python",
      "version": "3.10.8 | packaged by conda-forge | (main, Nov 24 2022, 14:07:00) [MSC v.1916 64 bit (AMD64)]"
    },
    "orig_nbformat": 4,
    "vscode": {
      "interpreter": {
        "hash": "2b6e7cfdce5ef245d32482b7f80393907c6182a3f3a40203474e09cb3d62b454"
      }
    }
  },
  "nbformat": 4,
  "nbformat_minor": 0
}
