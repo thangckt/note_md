{
  "cells": [
    {
      "attachments": {},
      "cell_type": "markdown",
      "metadata": {
        "id": "cUZ2jpHBG8Zl"
      },
      "source": [
        "# pointer in C\n",
        "\n",
        "poiter is a variable that store address of another variable (`&` is address operator)\n",
        "\n",
        "<img src=\"https://blog.luyencode.net/wp-content/uploads/2019/09/con-tr%E1%BB%8F-trong-c.jpg\" width=500>\n",
        "\n",
        "\n",
        "## declare a pointer\n",
        "```\n",
        "<data_type> *<pointer_name>;\n",
        "```\n",
        "space between `*` and `<pointer_name>` or `<data_type>` is no matter.\n",
        "\n",
        "Something to remember:\n",
        "- value of pointer is address of another variable\n",
        "- address of pointer is address of itself\n",
        "- content of pointer is value of variable where it point, `*p`\n",
        "- can get value of variable where pointer point by `*p`\n",
        "- pointer can change value of variable where it point, by `*p = <value>`"
      ]
    },
    {
      "cell_type": "code",
      "execution_count": null,
      "metadata": {},
      "outputs": [],
      "source": [
        "## example\n",
        "int *p_i;     // khai báo con trỏ để trỏ tới biến kiểu nguyên\n",
        "int *p, val;  // khai báo con trỏ p kiểu int, biến val (không phải con trỏ) kiểu int\n",
        "float *p_f;   // khai báo con trỏ để trỏ tới biến kiểu thực\n",
        "char *p_char; // khai báo con trỏ để trỏ tới biến kiểu ký tự\n",
        "void *p_v;    // con trỏ kiểu void (không kiểu)"
      ]
    },
    {
      "attachments": {},
      "cell_type": "markdown",
      "metadata": {},
      "source": [
        "## Assign value to pointer\n",
        "After declare a pointer, we need to assign value to it. If not, it will point to a random address and this will cause trouble.\n",
        "\n",
        "NOTEs:\n",
        "- Should assign value to pointer right after declare it\n",
        "- Pointer type `void` can point to any type of variable\n",
        "- `int *p = NULL`, then value of `p` is 0. This is a good practice to avoid pointer point to random address\n",
        "  \n",
        "Two ways to assign value to pointer:"
      ]
    },
    {
      "cell_type": "code",
      "execution_count": null,
      "metadata": {},
      "outputs": [],
      "source": [
        "int *p, value;\n",
        "value = 5;\n",
        "p = &value; // khởi tạo giá trị cho con trỏ p là địa chỉ của value\n",
        "\n",
        "## Or \n",
        "int value = 5;\n",
        "int *p = &value; // khai báo con trỏ p và khởi tạo giá trị cho con trỏ là địa chỉ của value"
      ]
    },
    {
      "attachments": {},
      "cell_type": "markdown",
      "metadata": {},
      "source": [
        "\n",
        "REFERENCES:\n",
        "- [con trỏ trong C](https://blog.luyencode.net/con-tro-trong-c/)\n",
        "- [point in C](https://www.programiz.com/c-programming/c-pointers)"
      ]
    },
    {
      "attachments": {},
      "cell_type": "markdown",
      "metadata": {},
      "source": [
        "# Relationship between pointer and array\n",
        "\n",
        "<img src=\"https://nguyenvanhieu.vn/wp-content/uploads/2019/09/bai-65-moi-quan-he-giua-con-tro-va-mang.jpg\" width=400>\n",
        "\n",
        "With array\n",
        "```C++\n",
        "int x[5] = {1, 2, 3, 4, 5};\n",
        "```\n",
        "Something to remember:\n",
        "- `x` is a pointer that point to first element of array `x`\n",
        "- `&x[0]` and `x` is the same, both return **address** of first element of array `x`\n",
        "- `x[0]` and `*x` is the same, both return **value** of first element of array `x`\n",
        "  \n",
        "similarly,\n",
        "- `&x[i]` and `x+i` is the same, both return **address** of `i` element of array `x`\n",
        "- `x[i]` and `*(x+i)` is the same, both return **value** of `i` element of array `x`"
      ]
    },
    {
      "attachments": {},
      "cell_type": "markdown",
      "metadata": {},
      "source": [
        "# Pointer and function\n",
        "Assume function `swap` is defined as below:\n",
        "```C++\n",
        " void swap(int a, int b){\n",
        "}\n",
        "```\n",
        "then value of `a` and `b` will be copied to function `swap`, so value of `a` and `b` in main function will not be changed.\n",
        "\n",
        "## pass pointer to function\n",
        "```C++\n",
        " void swap(int *a, int *b){\n",
        "}\n",
        "```\n",
        "then value of `a` and `b` will be address of `a` and `b` in main function, so value of `a` and `b` in main function will be changed.\n",
        "\n",
        "## pass reference to function (C++)\n",
        "```C++\n",
        " void swap(int &a, int &b){\n",
        "}\n",
        "```\n",
        "then value of `a` and `b` will be reference of `a` and `b` in main function, so value of `a` and `b` in main function will be changed.\n",
        "\n",
        "## pass array to function\n",
        "```C++\n",
        " void swap(int a[]){\n",
        "}\n",
        "```\n",
        "value of `a` in main function will be changed."
      ]
    }
  ],
  "metadata": {
    "colab": {
      "provenance": [],
      "toc_visible": true
    },
    "kernelspec": {
      "display_name": "base",
      "language": "python",
      "name": "python3"
    },
    "language_info": {
      "codemirror_mode": {
        "name": "ipython",
        "version": 3
      },
      "file_extension": ".py",
      "mimetype": "text/x-python",
      "name": "python",
      "nbconvert_exporter": "python",
      "pygments_lexer": "ipython3",
      "version": "3.11.3"
    },
    "orig_nbformat": 4,
    "vscode": {
      "interpreter": {
        "hash": "2b6e7cfdce5ef245d32482b7f80393907c6182a3f3a40203474e09cb3d62b454"
      }
    }
  },
  "nbformat": 4,
  "nbformat_minor": 0
}
