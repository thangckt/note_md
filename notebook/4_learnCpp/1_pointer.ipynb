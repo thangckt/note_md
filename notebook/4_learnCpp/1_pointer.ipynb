{
  "cells": [
    {
      "attachments": {},
      "cell_type": "markdown",
      "metadata": {
        "id": "cUZ2jpHBG8Zl"
      },
      "source": [
        "# pointer\n",
        "\n",
        "## pointer in C\n",
        "poiter is a variable that store address of another variable (`&` is address operator)\n",
        "\n",
        "<img src=\"https://blog.luyencode.net/wp-content/uploads/2019/09/con-tr%E1%BB%8F-trong-c.jpg\" width=500>\n",
        "\n",
        "\n",
        "## declare a pointer\n",
        "```\n",
        "<data_type> *<pointer_name>;\n",
        "```\n",
        "space between `*` and `<pointer_name>` or `<data_type>` is no matter.\n",
        "\n",
        "Something to remember:\n",
        "- value of pointer is address of another variable\n",
        "- address of pointer is address of itself\n",
        "- content of pointer is value of variable where it point, `*p`\n",
        "- can get value of variable where pointer point by `*p`\n",
        "- pointer can change value of variable where it point, by `*p = <value>`"
      ]
    },
    {
      "cell_type": "code",
      "execution_count": null,
      "metadata": {},
      "outputs": [],
      "source": [
        "## example\n",
        "int *p_i;     // khai báo con trỏ để trỏ tới biến kiểu nguyên\n",
        "int *p, val;  // khai báo con trỏ p kiểu int, biến val (không phải con trỏ) kiểu int\n",
        "float *p_f;   // khai báo con trỏ để trỏ tới biến kiểu thực\n",
        "char *p_char; // khai báo con trỏ để trỏ tới biến kiểu ký tự\n",
        "void *p_v;    // con trỏ kiểu void (không kiểu)"
      ]
    },
    {
      "attachments": {},
      "cell_type": "markdown",
      "metadata": {},
      "source": [
        "## Assign value to pointer\n",
        "After declare a pointer, we need to assign value to it. If not, it will point to a random address and this will cause trouble.\n",
        "\n",
        "NOTEs:\n",
        "- Should assign value to pointer right after declare it\n",
        "- Pointer type `void` can point to any type of variable\n",
        "- `int *p = NULL`, then value of `p` is 0. This is a good practice to avoid pointer point to random address\n",
        "  \n",
        "Two ways to assign value to pointer:"
      ]
    },
    {
      "cell_type": "code",
      "execution_count": null,
      "metadata": {},
      "outputs": [],
      "source": [
        "int *p, value;\n",
        "value = 5;\n",
        "p = &value; // khởi tạo giá trị cho con trỏ p là địa chỉ của value\n",
        "\n",
        "## Or \n",
        "int value = 5;\n",
        "int *p = &value; // khai báo con trỏ p và khởi tạo giá trị cho con trỏ là địa chỉ của value"
      ]
    },
    {
      "attachments": {},
      "cell_type": "markdown",
      "metadata": {},
      "source": [
        "or"
      ]
    },
    {
      "attachments": {},
      "cell_type": "markdown",
      "metadata": {},
      "source": [
        "\n",
        "REFERENCES:\n",
        "- [con trỏ trong C](https://blog.luyencode.net/con-tro-trong-c/)\n",
        "- [point in C](https://www.programiz.com/c-programming/c-pointers)"
      ]
    },
    {
      "cell_type": "code",
      "execution_count": null,
      "metadata": {
        "id": "UIMFhhtVG8Zn"
      },
      "outputs": [],
      "source": []
    }
  ],
  "metadata": {
    "colab": {
      "provenance": [],
      "toc_visible": true
    },
    "kernelspec": {
      "display_name": "base",
      "language": "python",
      "name": "python3"
    },
    "language_info": {
      "name": "python",
      "version": "3.10.8 | packaged by conda-forge | (main, Nov 24 2022, 14:07:00) [MSC v.1916 64 bit (AMD64)]"
    },
    "orig_nbformat": 4,
    "vscode": {
      "interpreter": {
        "hash": "2b6e7cfdce5ef245d32482b7f80393907c6182a3f3a40203474e09cb3d62b454"
      }
    }
  },
  "nbformat": 4,
  "nbformat_minor": 0
}
