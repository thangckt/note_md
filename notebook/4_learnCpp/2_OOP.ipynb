{
  "cells": [
    {
      "attachments": {},
      "cell_type": "markdown",
      "metadata": {
        "id": "cUZ2jpHBG8Zl"
      },
      "source": [
        "# Oreinted Object Programming\n",
        "\n",
        "OOP is a programming paradigm based on the concept of \"objects\", which can contain data, in the form of fields (often known as attributes or properties), and code, in the form of procedures (often known as methods).\n",
        "\n",
        "`object` has 2 main parts: \n",
        "- data: attributes or properties\n",
        "- code: procedures or methods\n",
        "\n",
        "`class` is a blueprint for creating objects (a particular data structure), providing initial values for state (member variables or attributes), and implementations of behavior (member functions or methods).\n",
        "\n",
        "C++ is developed from C, which supports oriented object programming. 'class' is the central feature of C++, and normally called data type that user-defined.\n",
        "\n",
        "## Class and Object\n",
        "\n",
        "### Class\n",
        "`class` is used to specify the form of `object`. It is data type defined by user, and contains members including data and functions.\n",
        "\n",
        "<img src=\"https://blog.luyencode.net/wp-content/uploads/2020/01/Classes-and-Objects-in-C.png\" >"
      ]
    },
    {
      "cell_type": "code",
      "execution_count": null,
      "metadata": {
        "vscode": {
          "languageId": "plaintext"
        }
      },
      "outputs": [],
      "source": [
        "class sinhvien\n",
        "{\n",
        "    private:\n",
        "        string masinhvien, ten, quequan;\n",
        "        int tuoi;\n",
        "        float diemtoan, diemly, diemhoa;\n",
        "    public:\n",
        "        void di();\n",
        "        void dung();\n",
        "        void ngoi();\n",
        "        void hoctap();\n",
        "};"
      ]
    },
    {
      "attachments": {},
      "cell_type": "markdown",
      "metadata": {},
      "source": [
        "### Object"
      ]
    },
    {
      "cell_type": "code",
      "execution_count": null,
      "metadata": {
        "vscode": {
          "languageId": "plaintext"
        }
      },
      "outputs": [],
      "source": [
        "sinhvien obj_1;\n",
        "sinhvien obj_2;"
      ]
    },
    {
      "attachments": {},
      "cell_type": "markdown",
      "metadata": {},
      "source": [
        "### Access Specifiers\n",
        "- `public`: members are accessible from outside the class\n",
        "- `private`: members cannot be accessed (or viewed) from outside the class\n",
        "- `protected`: members cannot be accessed from outside the class, however, they can be accessed in inherited classes. \n",
        "\n",
        "## Define Functions in Class\n",
        "In C++, there are 2 ways to define functions in class:\n",
        "- inside class\n",
        "- outside class (must use `::` - scope operator)"
      ]
    }
  ],
  "metadata": {
    "colab": {
      "provenance": [],
      "toc_visible": true
    },
    "kernelspec": {
      "display_name": "base",
      "language": "python",
      "name": "python3"
    },
    "language_info": {
      "codemirror_mode": {
        "name": "ipython",
        "version": 3
      },
      "file_extension": ".py",
      "mimetype": "text/x-python",
      "name": "python",
      "nbconvert_exporter": "python",
      "pygments_lexer": "ipython3",
      "version": "3.11.3"
    },
    "orig_nbformat": 4,
    "vscode": {
      "interpreter": {
        "hash": "2b6e7cfdce5ef245d32482b7f80393907c6182a3f3a40203474e09cb3d62b454"
      }
    }
  },
  "nbformat": 4,
  "nbformat_minor": 0
}
