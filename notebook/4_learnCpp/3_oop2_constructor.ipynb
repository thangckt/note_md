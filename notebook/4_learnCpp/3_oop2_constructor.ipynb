{
  "cells": [
    {
      "attachments": {},
      "cell_type": "markdown",
      "metadata": {
        "id": "cUZ2jpHBG8Zl"
      },
      "source": [
        "# Constructor and Destructor\n",
        "\n",
        "## Constructor\n",
        "constructor function is a special member function of a class that is executed whenever we create new objects of that class.\n",
        "\n",
        "Constructor function differs from normal function in following ways:\n",
        "1. Constructor has same name as the class name\n",
        "2. No return type is specified (not even void)\n",
        "3. Automatically invoked when object is created\n",
        "4. If not defined, compiler will provide a default constructor (no arguments, no operation)\n",
        "\n",
        "Simple example about constructor:\n",
        "```cpp\n",
        "class sinhvien\n",
        "{\n",
        "private:\n",
        "    string ten;\n",
        "    int tuoi;\n",
        "public:\n",
        "    sinhvien(); // Đây là hàm khởi tạo\n",
        "    ~sinhvien();\n",
        "};\n",
        "```"
      ]
    },
    {
      "attachments": {},
      "cell_type": "markdown",
      "metadata": {},
      "source": [
        "### Constructor types in C++\n",
        "1. Default constructor\n",
        "2. Parameterized constructor\n",
        "3. Copy constructor\n",
        "\n",
        "<img src=\"https://blog.luyencode.net/wp-content/uploads/2020/01/CPP-Constructors-768x243.png\" >\n",
        "\n",
        "Exmaple about copy constructor:\n",
        "```cpp\n",
        "/* Code by KingNNT */\n",
        "#include <bits/stdc++.h>\n",
        "using namespace std;\n",
        " \n",
        "class Point\n",
        "{\n",
        "private:\n",
        "    int x, y;\n",
        " \n",
        "public:\n",
        "    Point(int x1, int y1)\n",
        "    {\n",
        "        x = x1;\n",
        "        y = y1;\n",
        "    }\n",
        " \n",
        "    // Hàm khởi tạo sao chép\n",
        "    Point(const Point &p2)\n",
        "    {\n",
        "        x = p2.x;\n",
        "        y = p2.y;\n",
        "    }\n",
        " \n",
        "    int getX() { return x; }\n",
        "    int getY() { return y; }\n",
        "};\n",
        " \n",
        "int main()\n",
        "{\n",
        "    Point p1(10, 15); // Hàm khởi tạo có tham số thông thường\n",
        "    Point p2 = p1;    // hàm khởi tạo sao chép được gọi ở đây\n",
        " \n",
        "    cout << \"p1.x = \" << p1.getX() << \", p1.y = \" << p1.getY() << endl;\n",
        "    cout << \"p2.x = \" << p2.getX() << \", p2.y = \" << p2.getY() << endl;\n",
        " \n",
        "    return 0;\n",
        "}\n",
        "```\n",
        "Output:\n",
        "```\n",
        "p1.x = 10, p1.y = 15\n",
        "p2.x = 10, p2.y = 15\n",
        "```"
      ]
    },
    {
      "attachments": {},
      "cell_type": "markdown",
      "metadata": {},
      "source": [
        "## Destructor"
      ]
    },
    {
      "cell_type": "code",
      "execution_count": null,
      "metadata": {
        "vscode": {
          "languageId": "plaintext"
        }
      },
      "outputs": [],
      "source": [
        "sinhvien obj_1;\n",
        "sinhvien obj_2;"
      ]
    },
    {
      "cell_type": "code",
      "execution_count": null,
      "metadata": {
        "vscode": {
          "languageId": "plaintext"
        }
      },
      "outputs": [],
      "source": []
    }
  ],
  "metadata": {
    "colab": {
      "provenance": [],
      "toc_visible": true
    },
    "kernelspec": {
      "display_name": "base",
      "language": "python",
      "name": "python3"
    },
    "language_info": {
      "codemirror_mode": {
        "name": "ipython",
        "version": 3
      },
      "file_extension": ".py",
      "mimetype": "text/x-python",
      "name": "python",
      "nbconvert_exporter": "python",
      "pygments_lexer": "ipython3",
      "version": "3.11.3"
    },
    "orig_nbformat": 4,
    "vscode": {
      "interpreter": {
        "hash": "2b6e7cfdce5ef245d32482b7f80393907c6182a3f3a40203474e09cb3d62b454"
      }
    }
  },
  "nbformat": 4,
  "nbformat_minor": 0
}
