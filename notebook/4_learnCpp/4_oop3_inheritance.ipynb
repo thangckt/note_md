{
  "cells": [
    {
      "attachments": {},
      "cell_type": "markdown",
      "metadata": {
        "id": "cUZ2jpHBG8Zl"
      },
      "source": [
        "# Inheritance \n",
        "\n",
        "Inheritance is a way to create new class from existing class. The new class is called `derived class`, and the existing class is called `base class`. The derived class inherits all the features from the base class and can have additional features of its own.\n",
        "\n",
        "```cpp\n",
        "\n",
        "class subclass_name : access_mode base_class_name\n",
        "{\n",
        "  //body of subclass\n",
        "};\n",
        "```\n",
        "\n",
        "RFERENCE:\n",
        "- https://blog.luyencode.net/tinh-ke-thua-trong-c/"
      ]
    },
    {
      "attachments": {},
      "cell_type": "markdown",
      "metadata": {},
      "source": [
        "Example:\n",
        "\n",
        "```cpp\n",
        "\n",
        "#include <bits/stdc++.h>\n",
        "using namespace std;\n",
        " \n",
        "//Lớp Cha\n",
        "class Parent {\n",
        "public:\n",
        "    int id_p;\n",
        "};\n",
        " \n",
        "// Lớp con kế thừa từ lớp cha\n",
        "class Child : public Parent {\n",
        "public:\n",
        "    int id_c;\n",
        "};\n",
        " \n",
        "int main() {\n",
        "    Child obj1;\n",
        "    obj1.id_c = 7;\n",
        "    obj1.id_p = 91;\n",
        "    cout << \"Child id is \" << obj1.id_c << endl;\n",
        "    cout << \"Parent id is \" << obj1.id_p << endl;\n",
        " \n",
        "    return 0;\n",
        "}\n",
        "```\n"
      ]
    },
    {
      "cell_type": "markdown",
      "metadata": {},
      "source": [
        "\n",
        "## Acess control and inheritance\n",
        "1. `public` mode: \n",
        "   - public members of the base class become public members of the derived class \n",
        "   - protected members of the base class become protected members of the derived class. \n",
        "   - A base class's private members are never accessible directly from a derived class, but can be accessed through calls to the public and protected members of the base class.\n",
        "2. `protected` mode:\n",
        "   - public and protected members of the base class become protected members of the derived class.\n",
        "   - private members of the base class are never accessible directly from a derived class, but can be accessed through calls to the public and protected members of the base class.\n",
        "3. `private` mode:\n",
        "   - public and protected members of the base class become private members of the derived class.\n",
        "   - private members of the base class are never accessible directly from a derived class, but can be accessed through calls to the public and protected members of the base class.\n",
        "\n",
        "<img src=\"https://blog.luyencode.net/wp-content/uploads/2020/02/table-class.png\">"
      ]
    },
    {
      "attachments": {},
      "cell_type": "markdown",
      "metadata": {},
      "source": [
        "## Types of Inheritance\n",
        "1. Single Inheritance: a derived class is inherited from only one base class.\n",
        "```cpp\n",
        "class subclass_name : access_mode base_class\n",
        "{\n",
        "  //body of subclass\n",
        "};\n",
        "```\n",
        "2. Multiple Inheritance: a derived class is inherited from more than one base class.\n",
        "```cpp\n",
        "class subclass_name : access_mode base_class1, access_mode base_class2, ....\n",
        "{\n",
        "  //body of subclass\n",
        "};\n",
        "```\n",
        "3. Multilevel Inheritance: a derived class is inherited from another derived class.\n",
        "4. Hierarchical Inheritance: more than one derived class is created from a single base class."
      ]
    }
  ],
  "metadata": {
    "colab": {
      "provenance": [],
      "toc_visible": true
    },
    "kernelspec": {
      "display_name": "base",
      "language": "python",
      "name": "python3"
    },
    "language_info": {
      "codemirror_mode": {
        "name": "ipython",
        "version": 3
      },
      "file_extension": ".py",
      "mimetype": "text/x-python",
      "name": "python",
      "nbconvert_exporter": "python",
      "pygments_lexer": "ipython3",
      "version": "3.11.3"
    },
    "orig_nbformat": 4,
    "vscode": {
      "interpreter": {
        "hash": "2b6e7cfdce5ef245d32482b7f80393907c6182a3f3a40203474e09cb3d62b454"
      }
    }
  },
  "nbformat": 4,
  "nbformat_minor": 0
}
