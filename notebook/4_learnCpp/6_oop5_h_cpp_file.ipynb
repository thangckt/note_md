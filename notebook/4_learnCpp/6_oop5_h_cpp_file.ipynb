{
  "cells": [
    {
      "attachments": {},
      "cell_type": "markdown",
      "metadata": {
        "id": "cUZ2jpHBG8Zl"
      },
      "source": [
        "# Separate header and cpp file\n",
        "\n",
        "Why need to separate header (.h) and .cpp files?\n",
        "\n",
        "something to remember:\n",
        "- header file: to **declare** class, function, variable, macro, etc.\n",
        "- cpp file: to **define** class, function, variable, macro, etc.\n",
        "- use the same name for both header and cpp file, to make it easier to find the file\n",
        "- each `.h` file must have “#pragma once” at the beginning of the file to avoid multiple inclusion\n",
        "\n",
        "\n",
        "RFERENCE:\n",
        "- https://blog.luyencode.net/cach-tach-code-c-thanh-file-h-va-cpp/"
      ]
    }
  ],
  "metadata": {
    "colab": {
      "provenance": [],
      "toc_visible": true
    },
    "kernelspec": {
      "display_name": "base",
      "language": "python",
      "name": "python3"
    },
    "language_info": {
      "codemirror_mode": {
        "name": "ipython",
        "version": 3
      },
      "file_extension": ".py",
      "mimetype": "text/x-python",
      "name": "python",
      "nbconvert_exporter": "python",
      "pygments_lexer": "ipython3",
      "version": "3.11.3"
    },
    "orig_nbformat": 4,
    "vscode": {
      "interpreter": {
        "hash": "2b6e7cfdce5ef245d32482b7f80393907c6182a3f3a40203474e09cb3d62b454"
      }
    }
  },
  "nbformat": 4,
  "nbformat_minor": 0
}
