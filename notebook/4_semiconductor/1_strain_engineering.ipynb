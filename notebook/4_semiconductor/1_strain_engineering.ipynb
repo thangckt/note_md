{
 "cells": [
  {
   "attachments": {},
   "cell_type": "markdown",
   "metadata": {},
   "source": [
    "# Strain engineering\n",
    "\n",
    "Strain engineering is a powerful tool to tune the electronic and optical properties of semiconductor materials.\n",
    "\n",
    "Two-dimensional (2D) transition metal dichalcogenides (TMDCs) and graphene.\n",
    "\n",
    "**Graphene** \n",
    "- discovered in 2004 \n",
    "- strong covalent in-plane bonding yet weak interlayer van der Waals interactions\n",
    "- super electronic and mechanical properties\n",
    "- but limited by its zero band gap (limiting its use in optical applications ? [1])\n",
    "- very large elastic strains (up to 25%)\n",
    "\n",
    "**2D group-VI transition metal dichalcogenides (TMDCs)**: promising among 2D materials besides graphene\n",
    "- candidates for overcoming some of the disadvantages of graphene for future applications, such as ultrathin, flexible photonic, and optoelectronic devices \n",
    "- TMDC monolayers of the $MX_2$ form have a hexagonal layer of **metal** atoms $(M)$ sandwiched between atomic layers of **chalcogen** atoms $(X)$\n",
    "- The X-M-X layers can be stacked to form van der Waals-bonded, multilayered TMDCs\n",
    "- With $X = {S, Se, Te}$ and $M = {Mo, W, Re, V}$, there will be 12 different TMDCs of form $X-M-X$, and 24 more different TMDCs of Janus structures $X_1-M-X_2$ (i.e., different chalcogens in the nonmetal layers). And by alloying within the M- and X-layers will produce an infinite set of possible TMDCs.\n",
    "- elastic strains up to 10%\n",
    "\n",
    "REFERENCE: \n",
    "- [1] https://www.nature.com/articles/s41377-020-00421-5"
   ]
  },
  {
   "attachments": {},
   "cell_type": "markdown",
   "metadata": {},
   "source": [
    "## Strain engineering of 2D materials\n",
    "\n",
    "strain can also play an important role in manipulating the electronic and optical properties of TMDCs and graphene. TMDCs have remarkable strength compared with their conventional semiconducting counterparts, allowing the application of **large strains** for band structure manipulation. --> lead to the bourgeoning research on optoelectronic devices based on strain-induced modification of optical and electronic properties.\n",
    "\n",
    "While applications of macroscopically **homogeneous strains** on a large scale are achievable, **inhomogeneous strains** provide a means of locally creating spatially varying band structures within 2D TMDCs on the nanoscale."
   ]
  },
  {
   "attachments": {},
   "cell_type": "markdown",
   "metadata": {},
   "source": [
    "# "
   ]
  }
 ],
 "metadata": {
  "kernelspec": {
   "display_name": "Python 3",
   "language": "python",
   "name": "python3"
  },
  "language_info": {
   "name": "python",
   "version": "3.10.6 (main, Aug 10 2022, 11:40:04) [GCC 11.3.0]"
  },
  "orig_nbformat": 4,
  "vscode": {
   "interpreter": {
    "hash": "916dbcbb3f70747c44a77c7bcd40155683ae19c65e1c03b4aa3499c5328201f1"
   }
  }
 },
 "nbformat": 4,
 "nbformat_minor": 2
}
