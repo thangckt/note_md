{
 "cells": [
  {
   "attachments": {},
   "cell_type": "markdown",
   "metadata": {},
   "source": [
    "# mlcvs: Machine Learning Collective Variables\n",
    "\n",
    "Build data-driven collective variables for enhanced sampling simulations, using the python package `mlcvs`.\n",
    "- [Documentation](https://mlcvs.readthedocs.io/en/latest/index.html)\n",
    "- [Github](https://github.com/luigibonati/mlcvs)\n",
    "\n",
    "## Install packages\n"
   ]
  },
  {
   "cell_type": "code",
   "execution_count": null,
   "metadata": {},
   "outputs": [],
   "source": [
    "conda create -n py39mlcvs python=3.9\n",
    "conda activate py39mlcvs\n",
    "\n",
    "conda install -c conda-forge -y jupyter numpy matplotlib pandas \n",
    "\n",
    "## pytorch\n",
    "# conda install pytorch  pytorch-cuda=11.7 -c pytorch -c nvidia\n",
    "conda install -c pytorch -y pytorch  cpuonly\n",
    "## mlcvs\n",
    "pip install git+https://github.com/luigibonati/mlcvs@main"
   ]
  },
  {
   "attachments": {},
   "cell_type": "markdown",
   "metadata": {},
   "source": [
    "The collective variables (CVs) [are constructed](https://mlcvs.readthedocs.io/en/latest/api.html#) by **combining** a `model` and an `estimator`.\n",
    "- The `model` can be chosen to be **a linear combination** of descriptors or **a non linear transformation** operated by a neural-network.\n",
    "- The `estimators` implemented are Fisher’s discriminant (LDA) and Time-lagged independent component (TICA). While the former allows to devise CVs as the variables which most discriminate between a given set of states, the latter is used to extract CVs as the slowly decorrelating modes of a sampling dynamics.\n",
    "\n",
    "These combinations give rise to the different CVs which have been proposed in the literature: (H)LDA_CV, TICA_CV, and DeepLDA_CV."
   ]
  }
 ],
 "metadata": {
  "kernelspec": {
   "display_name": "Python 3",
   "language": "python",
   "name": "python3"
  },
  "language_info": {
   "name": "python",
   "version": "3.10.6 (main, Aug 10 2022, 11:40:04) [GCC 11.3.0]"
  },
  "orig_nbformat": 4,
  "vscode": {
   "interpreter": {
    "hash": "916dbcbb3f70747c44a77c7bcd40155683ae19c65e1c03b4aa3499c5328201f1"
   }
  }
 },
 "nbformat": 4,
 "nbformat_minor": 2
}
