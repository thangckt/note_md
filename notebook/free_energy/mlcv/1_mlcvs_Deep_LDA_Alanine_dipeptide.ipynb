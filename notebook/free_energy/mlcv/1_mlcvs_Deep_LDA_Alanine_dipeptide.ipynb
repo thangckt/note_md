{
 "cells": [
  {
   "attachments": {},
   "cell_type": "markdown",
   "metadata": {},
   "source": [
    "# Deep-LDA - Alanine dipeptide\n",
    "\n",
    "Tutorial for the training of the Deep-LDA collective variable, using the Alanine Dipeptide system as example with the *interatomic distances* as input descriptors.\n",
    "\n",
    "Reference: Bonati, Rizzi and Parrinello, J. Phys. Chem. Lett., 11, 2998-3004 (2020)."
   ]
  },
  {
   "cell_type": "code",
   "execution_count": 2,
   "metadata": {},
   "outputs": [],
   "source": [
    "import os\n",
    "from pathlib import Path\n",
    "dir_nb = Path(globals()['_dh'][0])\n",
    "\n",
    "import torch\n",
    "import numpy as np\n",
    "import matplotlib.pyplot as plt\n",
    "\n",
    "dir_base = dir_nb/'deep_LDA'\n",
    "if not dir_base.is_dir(): dir_base.mkdir()\n",
    "os.chdir(dir_base)"
   ]
  },
  {
   "attachments": {},
   "cell_type": "markdown",
   "metadata": {},
   "source": [
    "Plotting functions"
   ]
  },
  {
   "cell_type": "code",
   "execution_count": 3,
   "metadata": {},
   "outputs": [],
   "source": [
    "def plot_ramachandran(x,y,z,scatter=None,ax=None):\n",
    "    # Setup plot\n",
    "    if ax is None:\n",
    "        _, ax = plt.subplots(figsize=(5,4.), dpi=100)\n",
    "        ax.set_title(f'Ramachandran plot')\n",
    "\n",
    "    # Plot countour plot\n",
    "    h = ax.hexbin(x,y,C=z,cmap='fessa')\n",
    "    cbar = plt.colorbar(h,ax=ax)\n",
    "    cbar.set_label(f'Deep-LDA CV')\n",
    "\n",
    "    axs[0].set_xlabel(r'$\\phi$ [rad]')\n",
    "    axs[0].set_ylabel(r'$\\psi$ [rad]')\n",
    "\n",
    "def plot_cv_histogram(s,label=None,ax=None,**kwargs):\n",
    "    # Setup plot\n",
    "    if ax is None:\n",
    "        _, ax = plt.subplots(figsize=(5,4.), dpi=100)\n",
    "        ax.set_title('Histogram')\n",
    "\n",
    "    if (type(s)==torch.Tensor):\n",
    "        s = s.squeeze(1).detach().numpy()\n",
    "\n",
    "    # Plot histogram\n",
    "    ax.hist(s,**kwargs)\n",
    "    if label is not None:\n",
    "        ax.set_xlabel(label)"
   ]
  },
  {
   "attachments": {},
   "cell_type": "markdown",
   "metadata": {},
   "source": [
    "Download data (wget only work in Linux)"
   ]
  },
  {
   "cell_type": "code",
   "execution_count": 7,
   "metadata": {},
   "outputs": [
    {
     "name": "stderr",
     "output_type": "stream",
     "text": [
      "'wget' is not recognized as an internal or external command,\n",
      "operable program or batch file.\n"
     ]
    }
   ],
   "source": [
    "!wget https://github.com/luigibonati/mlcvs/tree/main/docs/notebooks/data"
   ]
  },
  {
   "cell_type": "markdown",
   "metadata": {},
   "source": [
    "\n",
    "\n",
    "## Load data\n",
    "\n",
    "Load the descriptors from PLUMED COLVAR files (one unbiased run for every metastable state)."
   ]
  },
  {
   "cell_type": "code",
   "execution_count": 14,
   "metadata": {},
   "outputs": [
    {
     "ename": "FileNotFoundError",
     "evalue": "[WinError 3] The system cannot find the path specified: 'c:\\\\DATA\\\\work\\\\lec_note\\\\note_md\\\\notebook\\\\free_energy\\\\mlcv\\\\deep_LDA\\\\data\\\\ala2_md'",
     "output_type": "error",
     "traceback": [
      "\u001b[1;31m---------------------------------------------------------------------------\u001b[0m",
      "\u001b[1;31mFileNotFoundError\u001b[0m                         Traceback (most recent call last)",
      "Cell \u001b[1;32mIn[14], line 2\u001b[0m\n\u001b[0;32m      1\u001b[0m dir_data \u001b[39m=\u001b[39m dir_base\u001b[39m/\u001b[39m\u001b[39m'\u001b[39m\u001b[39mdata/ala2_md\u001b[39m\u001b[39m'\u001b[39m\n\u001b[1;32m----> 2\u001b[0m \u001b[39mif\u001b[39;00m \u001b[39mnot\u001b[39;00m dir_data\u001b[39m.\u001b[39mis_dir(): dir_data\u001b[39m.\u001b[39mmkdir()\n",
      "File \u001b[1;32mc:\\DevProgram\\miniconda3\\envs\\py39mlcvs\\lib\\pathlib.py:1323\u001b[0m, in \u001b[0;36mPath.mkdir\u001b[1;34m(self, mode, parents, exist_ok)\u001b[0m\n\u001b[0;32m   1319\u001b[0m \u001b[39m\u001b[39m\u001b[39m\"\"\"\u001b[39;00m\n\u001b[0;32m   1320\u001b[0m \u001b[39mCreate a new directory at this given path.\u001b[39;00m\n\u001b[0;32m   1321\u001b[0m \u001b[39m\"\"\"\u001b[39;00m\n\u001b[0;32m   1322\u001b[0m \u001b[39mtry\u001b[39;00m:\n\u001b[1;32m-> 1323\u001b[0m     \u001b[39mself\u001b[39;49m\u001b[39m.\u001b[39;49m_accessor\u001b[39m.\u001b[39;49mmkdir(\u001b[39mself\u001b[39;49m, mode)\n\u001b[0;32m   1324\u001b[0m \u001b[39mexcept\u001b[39;00m \u001b[39mFileNotFoundError\u001b[39;00m:\n\u001b[0;32m   1325\u001b[0m     \u001b[39mif\u001b[39;00m \u001b[39mnot\u001b[39;00m parents \u001b[39mor\u001b[39;00m \u001b[39mself\u001b[39m\u001b[39m.\u001b[39mparent \u001b[39m==\u001b[39m \u001b[39mself\u001b[39m:\n",
      "\u001b[1;31mFileNotFoundError\u001b[0m: [WinError 3] The system cannot find the path specified: 'c:\\\\DATA\\\\work\\\\lec_note\\\\note_md\\\\notebook\\\\free_energy\\\\mlcv\\\\deep_LDA\\\\data\\\\ala2_md'"
     ]
    }
   ],
   "source": []
  },
  {
   "cell_type": "code",
   "execution_count": 12,
   "metadata": {},
   "outputs": [
    {
     "ename": "FileNotFoundError",
     "evalue": "[WinError 3] The system cannot find the path specified: 'c:\\\\DATA\\\\work\\\\lec_note\\\\note_md\\\\notebook\\\\free_energy\\\\mlcv\\\\deep_LDA\\\\data\\\\ala2_md'",
     "output_type": "error",
     "traceback": [
      "\u001b[1;31m---------------------------------------------------------------------------\u001b[0m",
      "\u001b[1;31mFileNotFoundError\u001b[0m                         Traceback (most recent call last)",
      "Cell \u001b[1;32mIn[12], line 4\u001b[0m\n\u001b[0;32m      1\u001b[0m \u001b[39mfrom\u001b[39;00m \u001b[39mmlcvs\u001b[39;00m\u001b[39m.\u001b[39;00m\u001b[39mutils\u001b[39;00m\u001b[39m.\u001b[39;00m\u001b[39mio\u001b[39;00m \u001b[39mimport\u001b[39;00m load_dataframe\n\u001b[0;32m      3\u001b[0m dir_data \u001b[39m=\u001b[39m dir_base\u001b[39m/\u001b[39m\u001b[39m'\u001b[39m\u001b[39mdata/ala2_md\u001b[39m\u001b[39m'\u001b[39m\n\u001b[1;32m----> 4\u001b[0m \u001b[39mif\u001b[39;00m \u001b[39mnot\u001b[39;00m dir_data\u001b[39m.\u001b[39mis_dir(): dir_data\u001b[39m.\u001b[39mmkdir()\n\u001b[0;32m      6\u001b[0m filenames \u001b[39m=\u001b[39m [ \u001b[39m\"\u001b[39m\u001b[39mdata/ala2_md/COLVAR_stateA\u001b[39m\u001b[39m\"\u001b[39m, \u001b[39m\"\u001b[39m\u001b[39mdata/ala2_md/COLVAR_stateB\u001b[39m\u001b[39m\"\u001b[39m ]\n\u001b[0;32m      8\u001b[0m X, y \u001b[39m=\u001b[39m [], []\n",
      "File \u001b[1;32mc:\\DevProgram\\miniconda3\\envs\\py39mlcvs\\lib\\pathlib.py:1323\u001b[0m, in \u001b[0;36mPath.mkdir\u001b[1;34m(self, mode, parents, exist_ok)\u001b[0m\n\u001b[0;32m   1319\u001b[0m \u001b[39m\u001b[39m\u001b[39m\"\"\"\u001b[39;00m\n\u001b[0;32m   1320\u001b[0m \u001b[39mCreate a new directory at this given path.\u001b[39;00m\n\u001b[0;32m   1321\u001b[0m \u001b[39m\"\"\"\u001b[39;00m\n\u001b[0;32m   1322\u001b[0m \u001b[39mtry\u001b[39;00m:\n\u001b[1;32m-> 1323\u001b[0m     \u001b[39mself\u001b[39;49m\u001b[39m.\u001b[39;49m_accessor\u001b[39m.\u001b[39;49mmkdir(\u001b[39mself\u001b[39;49m, mode)\n\u001b[0;32m   1324\u001b[0m \u001b[39mexcept\u001b[39;00m \u001b[39mFileNotFoundError\u001b[39;00m:\n\u001b[0;32m   1325\u001b[0m     \u001b[39mif\u001b[39;00m \u001b[39mnot\u001b[39;00m parents \u001b[39mor\u001b[39;00m \u001b[39mself\u001b[39m\u001b[39m.\u001b[39mparent \u001b[39m==\u001b[39m \u001b[39mself\u001b[39m:\n",
      "\u001b[1;31mFileNotFoundError\u001b[0m: [WinError 3] The system cannot find the path specified: 'c:\\\\DATA\\\\work\\\\lec_note\\\\note_md\\\\notebook\\\\free_energy\\\\mlcv\\\\deep_LDA\\\\data\\\\ala2_md'"
     ]
    }
   ],
   "source": [
    "from mlcvs.utils.io import load_dataframe\n",
    "\n",
    "\n",
    "\n",
    "filenames = [ \"data/ala2_md/COLVAR_stateA\", \"data/ala2_md/COLVAR_stateB\" ]\n",
    "\n",
    "X, y = [], []\n",
    "\n",
    "for i,file in enumerate(filenames):\n",
    "    data = load_dataframe(file)[::4]\n",
    "\n",
    "    # Descriptors\n",
    "    selection = 'd'\n",
    "    X.append( data.filter(regex=selection).values )\n",
    "    names = data.filter(regex=selection).columns.values\n",
    "\n",
    "    # Labels\n",
    "    y.append( np.full(len(data),i) )\n",
    "\n",
    "X = torch.Tensor( np.vstack(X) )\n",
    "y = torch.Tensor( np.hstack(y) )\n",
    "\n",
    "n_features = X.shape[1]"
   ]
  },
  {
   "cell_type": "code",
   "execution_count": 13,
   "metadata": {},
   "outputs": [
    {
     "data": {
      "text/plain": [
       "WindowsPath('c:/DATA/work/lec_note/note_md/notebook/free_energy/mlcv/deep_LDA/data/ala2_md')"
      ]
     },
     "execution_count": 13,
     "metadata": {},
     "output_type": "execute_result"
    }
   ],
   "source": [
    "dir_data"
   ]
  },
  {
   "cell_type": "code",
   "execution_count": null,
   "metadata": {},
   "outputs": [],
   "source": []
  }
 ],
 "metadata": {
  "kernelspec": {
   "display_name": "py39mlcvs",
   "language": "python",
   "name": "python3"
  },
  "language_info": {
   "codemirror_mode": {
    "name": "ipython",
    "version": 3
   },
   "file_extension": ".py",
   "mimetype": "text/x-python",
   "name": "python",
   "nbconvert_exporter": "python",
   "pygments_lexer": "ipython3",
   "version": "3.9.16"
  },
  "orig_nbformat": 4,
  "vscode": {
   "interpreter": {
    "hash": "ffd1abbb83318c5604f0d207c5fcbf9a26b71537d918692fbc05e98eeb47c7d3"
   }
  }
 },
 "nbformat": 4,
 "nbformat_minor": 2
}
