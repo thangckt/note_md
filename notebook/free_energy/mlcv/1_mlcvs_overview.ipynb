{
 "cells": [
  {
   "attachments": {},
   "cell_type": "markdown",
   "metadata": {},
   "source": [
    "# mlcvs: Machine Learning Collective Variables\n",
    "\n",
    "Build data-driven collective variables for enhanced sampling simulations, using the python package `mlcvs`.\n",
    "- [Documentation](https://mlcvs.readthedocs.io/en/latest/index.html)\n",
    "- [Github](https://github.com/luigibonati/mlcvs)\n",
    "\n",
    "## Install packages\n",
    "\n",
    "```{note}\n",
    "- Pytorch may only support python<3.9\n",
    "```"
   ]
  },
  {
   "cell_type": "code",
   "execution_count": null,
   "metadata": {},
   "outputs": [],
   "source": [
    "conda create -n py39lammps python=3.9\n",
    "conda activate py39lammps\n",
    "\n",
    "conda install -c conda-forge -y clang=15 lld=15 llvm-tools=15 libgcc-ng=12 \\\n",
    "    libibverbs-cos6-x86_64 openmpi ucx openmp lammps plumed\n",
    "\n",
    "## pytorch\n",
    "conda install pytorch torchvision torchaudio pytorch-cuda=11.7 -c pytorch -c nvidia\n",
    "## mlcvs\n",
    "pip install git+https://github.com/luigibonati/mlcvs@main"
   ]
  },
  {
   "attachments": {},
   "cell_type": "markdown",
   "metadata": {},
   "source": [
    "The collective variables (CVs) [are constructed](https://mlcvs.readthedocs.io/en/latest/api.html#) by **combining** a `model` and an `estimator`.\n",
    "- The `model` can be chosen to be **a linear combination** of descriptors or **a non linear transformation** operated by a neural-network.\n",
    "- The `estimators` implemented are Fisher’s discriminant (LDA) and Time-lagged independent component (TICA). While the former allows to devise CVs as the variables which most discriminate between a given set of states, the latter is used to extract CVs as the slowly decorrelating modes of a sampling dynamics.\n",
    "\n",
    "These combinations give rise to the different CVs which have been proposed in the literature: (H)LDA_CV, TICA_CV, and DeepLDA_CV."
   ]
  },
  {
   "cell_type": "code",
   "execution_count": null,
   "metadata": {},
   "outputs": [],
   "source": []
  }
 ],
 "metadata": {
  "kernelspec": {
   "display_name": "base",
   "language": "python",
   "name": "python3"
  },
  "language_info": {
   "name": "python",
   "version": "3.9.7 | packaged by conda-forge | (default, Sep 29 2021, 19:15:42) [MSC v.1916 64 bit (AMD64)]"
  },
  "orig_nbformat": 4,
  "vscode": {
   "interpreter": {
    "hash": "2b6e7cfdce5ef245d32482b7f80393907c6182a3f3a40203474e09cb3d62b454"
   }
  }
 },
 "nbformat": 4,
 "nbformat_minor": 2
}
