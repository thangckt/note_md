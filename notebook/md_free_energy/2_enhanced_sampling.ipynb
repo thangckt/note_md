{
 "cells": [
  {
   "attachments": {},
   "cell_type": "markdown",
   "metadata": {},
   "source": [
    "# Enhanced Sampling Methods\n",
    "\n",
    "One of the long-standing in MD simulations is the sampling of rare events. Therefore, many enhanced sampling methods are developed for solving this. An important class of such methods is based on an adaptive-bias approach and includes adaptive umbrella sampling, MetaD and recently developed OPES.\n",
    "\n"
   ]
  },
  {
   "cell_type": "code",
   "execution_count": null,
   "metadata": {},
   "outputs": [],
   "source": []
  }
 ],
 "metadata": {
  "kernelspec": {
   "display_name": "base",
   "language": "python",
   "name": "python3"
  },
  "language_info": {
   "name": "python",
   "version": "3.10.8"
  },
  "orig_nbformat": 4,
  "vscode": {
   "interpreter": {
    "hash": "2b6e7cfdce5ef245d32482b7f80393907c6182a3f3a40203474e09cb3d62b454"
   }
  }
 },
 "nbformat": 4,
 "nbformat_minor": 2
}
