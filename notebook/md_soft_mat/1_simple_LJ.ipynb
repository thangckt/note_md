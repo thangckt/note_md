{
 "cells": [
  {
   "attachments": {},
   "cell_type": "markdown",
   "metadata": {},
   "source": [
    "# Simple coarse-grained MD \n",
    "\n",
    "adapted from [this repo](https://github.com/Markus91Koch/MDLecturesWKMBP2020/blob/main/MDlecture1/MD1-Full.ipynb)\n",
    "\n",
    "**Goal:** write a simple MD Code to simulate a Lennard-Jones (LJ) fluid in the NVE ensemble. This mean we will have\n",
    "- simple spherical particles that interact with each other via a LJ potential\n",
    "- The time evolution of the system, i.e. the movement of these atoms, results from time integrating Newton's equations of motion by using the **Velocity-Verlet** algorithm\n",
    "- NVE means system has constant particle N, constant volume V, constan energy E.\n",
    "\n",
    "## From scratch\n",
    "\n",
    "## Define basic parameters of simulation\n",
    "\n",
    "Define the basic parameters of the simulation, e.g. number of particles, size of the box, timestep, interaction potential (LJ potential), etc."
   ]
  },
  {
   "cell_type": "code",
   "execution_count": null,
   "metadata": {},
   "outputs": [],
   "source": [
    "#"
   ]
  }
 ],
 "metadata": {
  "kernelspec": {
   "display_name": "base",
   "language": "python",
   "name": "python3"
  },
  "language_info": {
   "name": "python",
   "version": "3.9.12 (main, Apr  5 2022, 06:56:58) \n[GCC 7.5.0]"
  },
  "orig_nbformat": 4,
  "vscode": {
   "interpreter": {
    "hash": "f52633dda3cda3db7edfac503dd69aa8d40672cf6ca85271dc50f2cf7a04944c"
   }
  }
 },
 "nbformat": 4,
 "nbformat_minor": 2
}
