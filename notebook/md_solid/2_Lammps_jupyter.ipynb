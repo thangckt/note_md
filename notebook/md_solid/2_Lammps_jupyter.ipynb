{
 "cells": [
  {
   "attachments": {},
   "cell_type": "markdown",
   "metadata": {},
   "source": [
    "# Work with LAMMPS in jupyter\n",
    "\n",
    "LAMMPS provides many ways to work with python, see [this link]()\n",
    "\n",
    "## Use PyLammps\n",
    "\n",
    "See [`PyLammps` tutorial](PyLammps is a Python wrapper class for LAMMPS which can be created on its own or use an existing lammps Python object)\n",
    "\n",
    "May not need this, but we mainly use jupyter for postprocessing"
   ]
  },
  {
   "attachments": {},
   "cell_type": "markdown",
   "metadata": {},
   "source": [
    "## Run Lammps script\n"
   ]
  }
 ],
 "metadata": {
  "kernelspec": {
   "display_name": "py310lammps",
   "language": "python",
   "name": "python3"
  },
  "language_info": {
   "codemirror_mode": {
    "name": "ipython",
    "version": 3
   },
   "file_extension": ".py",
   "mimetype": "text/x-python",
   "name": "python",
   "nbconvert_exporter": "python",
   "pygments_lexer": "ipython3",
   "version": "3.10.9 (main, Jan 11 2023, 15:21:40) [GCC 11.2.0]"
  },
  "orig_nbformat": 4,
  "vscode": {
   "interpreter": {
    "hash": "4af480c0c2e1751962d308d4ca439457a4a91b6f92b27929db4a9b699928d104"
   }
  }
 },
 "nbformat": 4,
 "nbformat_minor": 2
}
